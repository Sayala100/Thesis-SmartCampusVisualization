{
 "cells": [
  {
   "cell_type": "code",
   "execution_count": null,
   "metadata": {},
   "outputs": [],
   "source": [
    "%load_ext autoreload\n",
    "%autoreload 2\n",
    "\n",
    "import os\n",
    "import sys\n",
    "\n",
    "module_path = os.path.abspath(os.path.join('..', 'code'))\n",
    "if module_path not in sys.path:\n",
    "    sys.path.append(module_path)"
   ]
  },
  {
   "cell_type": "code",
   "execution_count": null,
   "metadata": {},
   "outputs": [],
   "source": [
    "import utils"
   ]
  },
  {
   "cell_type": "code",
   "execution_count": null,
   "metadata": {},
   "outputs": [],
   "source": [
    "data = utils.load_data('../data/output.csv')"
   ]
  },
  {
   "cell_type": "code",
   "execution_count": null,
   "metadata": {},
   "outputs": [],
   "source": [
    "data['custom_index'] = (data['Rol']).apply(utils.create_index)\n",
    "data = data.sort_values(by='FechaHora').reset_index().drop(columns='index')\n",
    "data.head(100000)"
   ]
  },
  {
   "cell_type": "code",
   "execution_count": null,
   "metadata": {},
   "outputs": [],
   "source": [
    "import cv2\n",
    "import numpy as np\n",
    "import pytesseract\n",
    "\n",
    "# Carga toda la carpeta de imagenes (assets) sin subcarpetas\n",
    "images = utils.load_images('../assets')\n",
    "\n",
    "\n",
    "for i, image in enumerate(images):\n",
    "\n",
    "    # Convertir la imagen a espacio de color HSV para facilitar la detección de colores\n",
    "    hsv = cv2.cvtColor(image, cv2.COLOR_BGR2HSV)\n",
    "\n",
    "    # Definir los límites del color rojo en el espacio HSV\n",
    "    lower_red1 = np.array([0, 50, 50])\n",
    "    upper_red1 = np.array([10, 255, 255])\n",
    "    lower_red2 = np.array([170, 50, 50])\n",
    "    upper_red2 = np.array([180, 255, 255])\n",
    "\n",
    "    # Crear máscaras para ambos rangos de rojo\n",
    "    mask1 = cv2.inRange(hsv, lower_red1, upper_red1)\n",
    "    mask2 = cv2.inRange(hsv, lower_red2, upper_red2)\n",
    "\n",
    "    # Unir las dos máscaras para cubrir todas las tonalidades de rojo\n",
    "    mask = mask1 + mask2\n",
    "\n",
    "    # Encontrar contornos en la máscara\n",
    "    contours, _ = cv2.findContours(mask, cv2.RETR_EXTERNAL, cv2.CHAIN_APPROX_SIMPLE)\n",
    "\n",
    "    # Crear una lista para almacenar las coordenadas de los cuadrados\n",
    "    square_coords = []\n",
    "\n",
    "    # Filtrar solo los contornos que sean cuadrados y que tengan un área significativa\n",
    "    for contour in contours:\n",
    "        # Aproximar el contorno\n",
    "        epsilon = 0.02 * cv2.arcLength(contour, True)\n",
    "        approx = cv2.approxPolyDP(contour, epsilon, True)\n",
    "\n",
    "        # Verificar si el contorno tiene 4 lados (es un cuadrado o rectángulo)\n",
    "        if len(approx) == 4 and cv2.contourArea(contour) > 100:  # Filtrar por área\n",
    "            square_coords.append(approx)\n",
    "\n",
    "            # Extraer la región del cuadrado detectado de la imagen original\n",
    "            x, y, w, h = cv2.boundingRect(approx)\n",
    "            square_roi = image[y:y + h, x:x + w]\n",
    "\n",
    "            # Preprocesar la imagen antes de OCR (convertir a gris y aplicar umbral)\n",
    "            gray_square = cv2.cvtColor(square_roi, cv2.COLOR_BGR2GRAY)\n",
    "\n",
    "            # Binarizar la imagen (solo si es necesario)\n",
    "            _, threshold_square = cv2.threshold(gray_square, 0, 255, cv2.THRESH_BINARY + cv2.THRESH_OTSU)\n",
    "\n",
    "            text = pytesseract.image_to_string(threshold_square, config='--psm 7')  # psm 7 para una línea de texto\n",
    "\n",
    "            # Decidir el color basado en el texto\n",
    "            if \"WAIRA\" in text.upper():\n",
    "                color = (0, 255, 0)  # Verde si el texto es \"APPROVED\"\n",
    "            elif \"ML-603\" in text.upper():\n",
    "                color = (0, 0, 255)  # Rojo si el texto es \"REJECTED\"\n",
    "            else:\n",
    "                color = (255, 255, 0)  # Amarillo para otros casos\n",
    "\n",
    "            # Dibujar el cuadrado completo con el color basado en el texto\n",
    "            cv2.fillPoly(image, [approx], color)\n",
    "\n",
    "            # Poner el texto extraído en la imagen\n",
    "            center_x = x + w // 2\n",
    "            center_y = y + h // 2\n",
    "\n",
    "            text_size = cv2.getTextSize(text.strip(), cv2.FONT_HERSHEY_SIMPLEX, 0.5, 2)[0]\n",
    "            text_width, text_height = text_size\n",
    "            text_x = center_x - text_width // 2\n",
    "            text_y = center_y + text_height // 2\n",
    "            text_color = (255, 255, 255)\n",
    "            cv2.putText(image, text.strip(), (text_x, text_y), cv2.FONT_HERSHEY_SIMPLEX, 2, text_color, 5, cv2.LINE_AA)\n",
    "\n",
    "    # Guardar la imagen con los cuadrados detectados y coloreados\n",
    "    cv2.imwrite(f'../assets/out/{i}.jpg', image)"
   ]
  }
 ],
 "metadata": {
  "kernelspec": {
   "display_name": "smartCampus",
   "language": "python",
   "name": "python3"
  },
  "language_info": {
   "name": "python",
   "version": "3.12.7"
  }
 },
 "nbformat": 4,
 "nbformat_minor": 2
}
