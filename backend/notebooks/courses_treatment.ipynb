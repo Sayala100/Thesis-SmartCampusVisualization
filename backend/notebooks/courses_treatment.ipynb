{
 "cells": [
  {
   "cell_type": "code",
   "execution_count": 1,
   "metadata": {},
   "outputs": [],
   "source": [
    "%load_ext autoreload\n",
    "%autoreload 2\n",
    "\n",
    "import os\n",
    "import sys\n",
    "from joblib import dump, load\n",
    "\n",
    "module_path = os.path.abspath(os.path.join('..', 'code'))\n",
    "if module_path not in sys.path:\n",
    "    sys.path.append(module_path)"
   ]
  },
  {
   "cell_type": "code",
   "execution_count": 2,
   "metadata": {},
   "outputs": [],
   "source": [
    "import utils"
   ]
  },
  {
   "cell_type": "markdown",
   "metadata": {},
   "source": [
    "## Procesado de datos Oferta de cursos"
   ]
  },
  {
   "cell_type": "code",
   "execution_count": 3,
   "metadata": {},
   "outputs": [],
   "source": [
    "df = utils.load_data('../data/courses.csv')"
   ]
  },
  {
   "cell_type": "code",
   "execution_count": 4,
   "metadata": {},
   "outputs": [],
   "source": [
    "def initial_filter(df):\n",
    "    df = df[df['Lugar']=='CAMPUS PRINCIPAL']\n",
    "    # Mantener solo los edificos usados para la investigación\n",
    "    df = df[df['Edificio'].str.contains(r'.*SD.*|.*\\.centro.*|.*ML.*|.*LL.*', na=False)]\n",
    "    # Eliminar filas duplicadas\n",
    "    df.drop_duplicates(inplace=True)\n",
    "    \n",
    "    return df"
   ]
  },
  {
   "cell_type": "code",
   "execution_count": 5,
   "metadata": {},
   "outputs": [],
   "source": [
    "def further_processing(df):\n",
    "    # Mantener solo las columnas necesarias\n",
    "    df = df[['Curso','NRC','Periodo','Edificio','Salón','Días','Horas', 'Inscritos']]\n",
    "    # Eliminar cursos sin inscritos\n",
    "    df = df[df['Inscritos']>0]\n",
    "    return df"
   ]
  },
  {
   "cell_type": "code",
   "execution_count": 6,
   "metadata": {},
   "outputs": [],
   "source": [
    "def save_file(processed_df, path):\n",
    "    processed_df.to_csv(path, index=False)"
   ]
  },
  {
   "cell_type": "code",
   "execution_count": 7,
   "metadata": {},
   "outputs": [],
   "source": [
    "def process_file(input_path, output_path):\n",
    "    df = utils.load_data(input_path)\n",
    "    df = initial_filter(df)\n",
    "    df = further_processing(df)\n",
    "    save_file(df, output_path)"
   ]
  },
  {
   "cell_type": "code",
   "execution_count": 8,
   "metadata": {},
   "outputs": [
    {
     "data": {
      "text/plain": [
       "['../models/process_file.joblib']"
      ]
     },
     "execution_count": 8,
     "metadata": {},
     "output_type": "execute_result"
    }
   ],
   "source": [
    "dump(process_file, '../models/process_file.joblib')"
   ]
  },
  {
   "cell_type": "code",
   "execution_count": 9,
   "metadata": {},
   "outputs": [],
   "source": [
    "process_file_loaded = load('../models/process_file.joblib')\n",
    "\n",
    "process_file_loaded('../data/courses.csv', '../data/processed_courses.csv')\n",
    "\n"
   ]
  },
  {
   "cell_type": "markdown",
   "metadata": {},
   "source": [
    "### Usando los datos de talanqueras"
   ]
  },
  {
   "cell_type": "code",
   "execution_count": 1,
   "metadata": {},
   "outputs": [],
   "source": [
    "import pandas as pd\n",
    "import numpy as np\n",
    "import re"
   ]
  },
  {
   "cell_type": "code",
   "execution_count": 2,
   "metadata": {},
   "outputs": [],
   "source": [
    "courses = pd.read_csv('../data/processed_courses.csv')\n",
    "talanqueras = pd.read_csv('../data/output.csv')"
   ]
  },
  {
   "cell_type": "code",
   "execution_count": 24,
   "metadata": {},
   "outputs": [
    {
     "data": {
      "text/plain": [
       "(4457, 8)"
      ]
     },
     "execution_count": 24,
     "metadata": {},
     "output_type": "execute_result"
    }
   ],
   "source": [
    "courses.shape"
   ]
  },
  {
   "cell_type": "code",
   "execution_count": 4,
   "metadata": {},
   "outputs": [],
   "source": [
    "talanqueras['Edificio'] = talanqueras['Puerta'].str.split('-', expand=True)[0]\n",
    "talanqueras['Edificio'] = talanqueras['Edificio'].str.replace(r'[0-9]', '', regex=True)\n",
    "talanqueras = talanqueras.drop(talanqueras[talanqueras['Edificio'] == 'CD'].index)\n",
    "\n",
    "courses['Salón'] = courses['Salón'].str.replace('.','')\n",
    "courses['Edificio'] = courses['Salón'].str.split('_', expand=True)[0]"
   ]
  },
  {
   "cell_type": "code",
   "execution_count": 5,
   "metadata": {},
   "outputs": [
    {
     "data": {
      "text/html": [
       "<div>\n",
       "<style scoped>\n",
       "    .dataframe tbody tr th:only-of-type {\n",
       "        vertical-align: middle;\n",
       "    }\n",
       "\n",
       "    .dataframe tbody tr th {\n",
       "        vertical-align: top;\n",
       "    }\n",
       "\n",
       "    .dataframe thead th {\n",
       "        text-align: right;\n",
       "    }\n",
       "</style>\n",
       "<table border=\"1\" class=\"dataframe\">\n",
       "  <thead>\n",
       "    <tr style=\"text-align: right;\">\n",
       "      <th></th>\n",
       "      <th>Curso</th>\n",
       "      <th>NRC</th>\n",
       "      <th>Periodo</th>\n",
       "      <th>Edificio</th>\n",
       "      <th>Salón</th>\n",
       "      <th>Días</th>\n",
       "      <th>Horas</th>\n",
       "      <th>Inscritos</th>\n",
       "    </tr>\n",
       "  </thead>\n",
       "  <tbody>\n",
       "    <tr>\n",
       "      <th>2794</th>\n",
       "      <td>LENG-1154 ENGLISH 04 (CICLO 2 DE 8 SEMANAS)</td>\n",
       "      <td>30633</td>\n",
       "      <td>202420</td>\n",
       "      <td>LL</td>\n",
       "      <td>LL_105</td>\n",
       "      <td>J</td>\n",
       "      <td>1530-1650</td>\n",
       "      <td>8</td>\n",
       "    </tr>\n",
       "    <tr>\n",
       "      <th>200</th>\n",
       "      <td>ADMI-3502 ESTRATEGIA</td>\n",
       "      <td>28691</td>\n",
       "      <td>202420</td>\n",
       "      <td>ML</td>\n",
       "      <td>ML_515</td>\n",
       "      <td>M</td>\n",
       "      <td>0930-1050</td>\n",
       "      <td>37</td>\n",
       "    </tr>\n",
       "    <tr>\n",
       "      <th>917</th>\n",
       "      <td>DERE-3601 DERECHO INTERNACIONAL 2</td>\n",
       "      <td>63003</td>\n",
       "      <td>202420</td>\n",
       "      <td>ML</td>\n",
       "      <td>ML_615</td>\n",
       "      <td>L</td>\n",
       "      <td>1100-1220</td>\n",
       "      <td>50</td>\n",
       "    </tr>\n",
       "    <tr>\n",
       "      <th>4206</th>\n",
       "      <td>MMBA-4300 MERCADEO ESTRATÉGICO (CICLO 2 DE 8 S...</td>\n",
       "      <td>72888</td>\n",
       "      <td>202420</td>\n",
       "      <td>SD</td>\n",
       "      <td>SD_715</td>\n",
       "      <td>V</td>\n",
       "      <td>1800-2050</td>\n",
       "      <td>36</td>\n",
       "    </tr>\n",
       "    <tr>\n",
       "      <th>4363</th>\n",
       "      <td>PSIG-2201 NEUROANATOMÍA FUNCIONAL</td>\n",
       "      <td>65686</td>\n",
       "      <td>202420</td>\n",
       "      <td>ML</td>\n",
       "      <td>ML_615</td>\n",
       "      <td>M</td>\n",
       "      <td>0800-0920</td>\n",
       "      <td>76</td>\n",
       "    </tr>\n",
       "    <tr>\n",
       "      <th>3001</th>\n",
       "      <td>LENG-1157 ENGLISH 07 - SPEAKING 1 (CICLO 2 DE ...</td>\n",
       "      <td>65918</td>\n",
       "      <td>202420</td>\n",
       "      <td>LL</td>\n",
       "      <td>LL_203</td>\n",
       "      <td>V</td>\n",
       "      <td>1100-1220</td>\n",
       "      <td>21</td>\n",
       "    </tr>\n",
       "    <tr>\n",
       "      <th>447</th>\n",
       "      <td>CBCO-1113 ARTE EN COLOMBIA (CICLO 2 DE 8 SEMANAS)</td>\n",
       "      <td>63279</td>\n",
       "      <td>202420</td>\n",
       "      <td>RGD</td>\n",
       "      <td>RGD_112-13</td>\n",
       "      <td>J</td>\n",
       "      <td>1400-1550</td>\n",
       "      <td>51</td>\n",
       "    </tr>\n",
       "    <tr>\n",
       "      <th>2622</th>\n",
       "      <td>ISIS-2603 DESARROLLO DE SW EN EQUIPO</td>\n",
       "      <td>11183</td>\n",
       "      <td>202420</td>\n",
       "      <td>SD</td>\n",
       "      <td>SD_403</td>\n",
       "      <td>I</td>\n",
       "      <td>0800-0920</td>\n",
       "      <td>23</td>\n",
       "    </tr>\n",
       "    <tr>\n",
       "      <th>3292</th>\n",
       "      <td>LENG-1701 PORTUGUES 1</td>\n",
       "      <td>63147</td>\n",
       "      <td>202420</td>\n",
       "      <td>LL</td>\n",
       "      <td>LL_108</td>\n",
       "      <td>L</td>\n",
       "      <td>0800-0920</td>\n",
       "      <td>22</td>\n",
       "    </tr>\n",
       "    <tr>\n",
       "      <th>330</th>\n",
       "      <td>CBCA-1022 CIUDAD Y TÉCNICA (CICLO 1 DE 8 SEMANAS)</td>\n",
       "      <td>71894</td>\n",
       "      <td>202420</td>\n",
       "      <td>RGD</td>\n",
       "      <td>RGD_05</td>\n",
       "      <td>M</td>\n",
       "      <td>0700-0850</td>\n",
       "      <td>37</td>\n",
       "    </tr>\n",
       "  </tbody>\n",
       "</table>\n",
       "</div>"
      ],
      "text/plain": [
       "                                                  Curso    NRC  Periodo  \\\n",
       "2794        LENG-1154 ENGLISH 04 (CICLO 2 DE 8 SEMANAS)  30633   202420   \n",
       "200                                ADMI-3502 ESTRATEGIA  28691   202420   \n",
       "917                   DERE-3601 DERECHO INTERNACIONAL 2  63003   202420   \n",
       "4206  MMBA-4300 MERCADEO ESTRATÉGICO (CICLO 2 DE 8 S...  72888   202420   \n",
       "4363                  PSIG-2201 NEUROANATOMÍA FUNCIONAL  65686   202420   \n",
       "3001  LENG-1157 ENGLISH 07 - SPEAKING 1 (CICLO 2 DE ...  65918   202420   \n",
       "447   CBCO-1113 ARTE EN COLOMBIA (CICLO 2 DE 8 SEMANAS)  63279   202420   \n",
       "2622               ISIS-2603 DESARROLLO DE SW EN EQUIPO  11183   202420   \n",
       "3292                              LENG-1701 PORTUGUES 1  63147   202420   \n",
       "330   CBCA-1022 CIUDAD Y TÉCNICA (CICLO 1 DE 8 SEMANAS)  71894   202420   \n",
       "\n",
       "     Edificio       Salón Días      Horas  Inscritos  \n",
       "2794       LL      LL_105    J  1530-1650          8  \n",
       "200        ML      ML_515    M  0930-1050         37  \n",
       "917        ML      ML_615    L  1100-1220         50  \n",
       "4206       SD      SD_715    V  1800-2050         36  \n",
       "4363       ML      ML_615    M  0800-0920         76  \n",
       "3001       LL      LL_203    V  1100-1220         21  \n",
       "447       RGD  RGD_112-13    J  1400-1550         51  \n",
       "2622       SD      SD_403    I  0800-0920         23  \n",
       "3292       LL      LL_108    L  0800-0920         22  \n",
       "330       RGD      RGD_05    M  0700-0850         37  "
      ]
     },
     "execution_count": 5,
     "metadata": {},
     "output_type": "execute_result"
    }
   ],
   "source": [
    "courses.sample(10)"
   ]
  },
  {
   "cell_type": "code",
   "execution_count": 6,
   "metadata": {},
   "outputs": [],
   "source": [
    "def count_entradas(edificio):\n",
    "    return talanqueras['Edificio'].str.contains(edificio).sum()"
   ]
  },
  {
   "cell_type": "code",
   "execution_count": 7,
   "metadata": {},
   "outputs": [
    {
     "data": {
      "text/html": [
       "<div>\n",
       "<style scoped>\n",
       "    .dataframe tbody tr th:only-of-type {\n",
       "        vertical-align: middle;\n",
       "    }\n",
       "\n",
       "    .dataframe tbody tr th {\n",
       "        vertical-align: top;\n",
       "    }\n",
       "\n",
       "    .dataframe thead th {\n",
       "        text-align: right;\n",
       "    }\n",
       "</style>\n",
       "<table border=\"1\" class=\"dataframe\">\n",
       "  <thead>\n",
       "    <tr style=\"text-align: right;\">\n",
       "      <th></th>\n",
       "      <th>Edificio</th>\n",
       "      <th>Entradas</th>\n",
       "    </tr>\n",
       "  </thead>\n",
       "  <tbody>\n",
       "    <tr>\n",
       "      <th>0</th>\n",
       "      <td>RGD</td>\n",
       "      <td>10088.0</td>\n",
       "    </tr>\n",
       "    <tr>\n",
       "      <th>1</th>\n",
       "      <td>ML</td>\n",
       "      <td>35062.0</td>\n",
       "    </tr>\n",
       "    <tr>\n",
       "      <th>2</th>\n",
       "      <td>SD</td>\n",
       "      <td>35198.0</td>\n",
       "    </tr>\n",
       "    <tr>\n",
       "      <th>3</th>\n",
       "      <td>LL</td>\n",
       "      <td>10014.0</td>\n",
       "    </tr>\n",
       "  </tbody>\n",
       "</table>\n",
       "</div>"
      ],
      "text/plain": [
       "  Edificio  Entradas\n",
       "0      RGD   10088.0\n",
       "1       ML   35062.0\n",
       "2       SD   35198.0\n",
       "3       LL   10014.0"
      ]
     },
     "execution_count": 7,
     "metadata": {},
     "output_type": "execute_result"
    }
   ],
   "source": [
    "edif = pd.DataFrame()\n",
    "edif['Edificio'] = courses['Edificio'].unique()\n",
    "for edificio in edif['Edificio']:\n",
    "    edif.loc[edif['Edificio']==edificio, 'Entradas'] = count_entradas(edificio)\n",
    "edif.head()  #  Conteo de entradas por edificio"
   ]
  },
  {
   "cell_type": "code",
   "execution_count": null,
   "metadata": {},
   "outputs": [],
   "source": [
    "# df para contar entradas por rangos de horas\n",
    "hours_count = pd.DataFrame()\n",
    "hours_count['Edificio'] = courses['Edificio']\n",
    "hours_count['Rango de Horas'] = talanqueras['FechaHora'].str.split(' ', expand=True)[1].str.split(':', expand=True)[0].astype(int) "
   ]
  },
  {
   "cell_type": "code",
   "execution_count": 9,
   "metadata": {},
   "outputs": [
    {
     "data": {
      "text/html": [
       "<div>\n",
       "<style scoped>\n",
       "    .dataframe tbody tr th:only-of-type {\n",
       "        vertical-align: middle;\n",
       "    }\n",
       "\n",
       "    .dataframe tbody tr th {\n",
       "        vertical-align: top;\n",
       "    }\n",
       "\n",
       "    .dataframe thead th {\n",
       "        text-align: right;\n",
       "    }\n",
       "</style>\n",
       "<table border=\"1\" class=\"dataframe\">\n",
       "  <thead>\n",
       "    <tr style=\"text-align: right;\">\n",
       "      <th></th>\n",
       "      <th>Edificio</th>\n",
       "      <th>Rango de Horas</th>\n",
       "    </tr>\n",
       "  </thead>\n",
       "  <tbody>\n",
       "    <tr>\n",
       "      <th>0</th>\n",
       "      <td>RGD</td>\n",
       "      <td>NaN</td>\n",
       "    </tr>\n",
       "    <tr>\n",
       "      <th>1</th>\n",
       "      <td>RGD</td>\n",
       "      <td>6.0</td>\n",
       "    </tr>\n",
       "    <tr>\n",
       "      <th>2</th>\n",
       "      <td>ML</td>\n",
       "      <td>7.0</td>\n",
       "    </tr>\n",
       "    <tr>\n",
       "      <th>3</th>\n",
       "      <td>ML</td>\n",
       "      <td>12.0</td>\n",
       "    </tr>\n",
       "    <tr>\n",
       "      <th>4</th>\n",
       "      <td>RGD</td>\n",
       "      <td>15.0</td>\n",
       "    </tr>\n",
       "  </tbody>\n",
       "</table>\n",
       "</div>"
      ],
      "text/plain": [
       "  Edificio  Rango de Horas\n",
       "0      RGD             NaN\n",
       "1      RGD             6.0\n",
       "2       ML             7.0\n",
       "3       ML            12.0\n",
       "4      RGD            15.0"
      ]
     },
     "execution_count": 9,
     "metadata": {},
     "output_type": "execute_result"
    }
   ],
   "source": [
    "hours_count.head()"
   ]
  },
  {
   "cell_type": "code",
   "execution_count": 10,
   "metadata": {},
   "outputs": [
    {
     "data": {
      "text/html": [
       "<div>\n",
       "<style scoped>\n",
       "    .dataframe tbody tr th:only-of-type {\n",
       "        vertical-align: middle;\n",
       "    }\n",
       "\n",
       "    .dataframe tbody tr th {\n",
       "        vertical-align: top;\n",
       "    }\n",
       "\n",
       "    .dataframe thead th {\n",
       "        text-align: right;\n",
       "    }\n",
       "</style>\n",
       "<table border=\"1\" class=\"dataframe\">\n",
       "  <thead>\n",
       "    <tr style=\"text-align: right;\">\n",
       "      <th></th>\n",
       "      <th>Edificio</th>\n",
       "      <th>Rango de Horas</th>\n",
       "    </tr>\n",
       "  </thead>\n",
       "  <tbody>\n",
       "    <tr>\n",
       "      <th>0</th>\n",
       "      <td>RGD</td>\n",
       "      <td>[6, 7)</td>\n",
       "    </tr>\n",
       "    <tr>\n",
       "      <th>1</th>\n",
       "      <td>ML</td>\n",
       "      <td>[7, 8)</td>\n",
       "    </tr>\n",
       "    <tr>\n",
       "      <th>2</th>\n",
       "      <td>ML</td>\n",
       "      <td>[12, 13)</td>\n",
       "    </tr>\n",
       "    <tr>\n",
       "      <th>3</th>\n",
       "      <td>RGD</td>\n",
       "      <td>[15, 16)</td>\n",
       "    </tr>\n",
       "    <tr>\n",
       "      <th>4</th>\n",
       "      <td>ML</td>\n",
       "      <td>[15, 16)</td>\n",
       "    </tr>\n",
       "    <tr>\n",
       "      <th>...</th>\n",
       "      <td>...</td>\n",
       "      <td>...</td>\n",
       "    </tr>\n",
       "    <tr>\n",
       "      <th>82</th>\n",
       "      <td>ML</td>\n",
       "      <td>[4, 5)</td>\n",
       "    </tr>\n",
       "    <tr>\n",
       "      <th>83</th>\n",
       "      <td>RGD</td>\n",
       "      <td>[2, 3)</td>\n",
       "    </tr>\n",
       "    <tr>\n",
       "      <th>84</th>\n",
       "      <td>LL</td>\n",
       "      <td>[1, 2)</td>\n",
       "    </tr>\n",
       "    <tr>\n",
       "      <th>85</th>\n",
       "      <td>LL</td>\n",
       "      <td>[2, 3)</td>\n",
       "    </tr>\n",
       "    <tr>\n",
       "      <th>86</th>\n",
       "      <td>LL</td>\n",
       "      <td>[0, 1)</td>\n",
       "    </tr>\n",
       "  </tbody>\n",
       "</table>\n",
       "<p>87 rows × 2 columns</p>\n",
       "</div>"
      ],
      "text/plain": [
       "   Edificio Rango de Horas\n",
       "0       RGD         [6, 7)\n",
       "1        ML         [7, 8)\n",
       "2        ML       [12, 13)\n",
       "3       RGD       [15, 16)\n",
       "4        ML       [15, 16)\n",
       "..      ...            ...\n",
       "82       ML         [4, 5)\n",
       "83      RGD         [2, 3)\n",
       "84       LL         [1, 2)\n",
       "85       LL         [2, 3)\n",
       "86       LL         [0, 1)\n",
       "\n",
       "[87 rows x 2 columns]"
      ]
     },
     "execution_count": 10,
     "metadata": {},
     "output_type": "execute_result"
    }
   ],
   "source": [
    "def create_ranges(df):\n",
    "    earliest = int(hours_count['Rango de Horas'].min())\n",
    "    latest = int(hours_count['Rango de Horas'].max())\n",
    "    df['Rango de Horas'] = pd.cut(df['Rango de Horas'], bins=range(earliest, latest, 1), right=False)\n",
    "    df.dropna(inplace=True)\n",
    "    df.drop_duplicates(inplace=True)\n",
    "    df.reset_index(drop=True, inplace=True)\n",
    "    return df\n",
    "\n",
    "create_ranges(hours_count)"
   ]
  },
  {
   "cell_type": "code",
   "execution_count": 12,
   "metadata": {},
   "outputs": [
    {
     "name": "stderr",
     "output_type": "stream",
     "text": [
      "C:\\Users\\carlo\\AppData\\Local\\Temp\\ipykernel_24828\\2067999010.py:11: SettingWithCopyWarning: \n",
      "A value is trying to be set on a copy of a slice from a DataFrame\n",
      "\n",
      "See the caveats in the documentation: https://pandas.pydata.org/pandas-docs/stable/user_guide/indexing.html#returning-a-view-versus-a-copy\n",
      "  hours_count['Entradas'].iloc[i] += 1\n"
     ]
    }
   ],
   "source": [
    "#count entries by hour\n",
    "hours_count['Entradas'] = 0\n",
    "for i in range(len(hours_count)):\n",
    "    edificio = hours_count['Edificio'].iloc[i]\n",
    "    left = hours_count['Rango de Horas'].iloc[i].left\n",
    "    right = hours_count['Rango de Horas'].iloc[i].right\n",
    "    for j in range(len(talanqueras)):\n",
    "        hora = int(talanqueras['FechaHora'].iloc[j].split(' ')[1].split(':')[0])\n",
    "        building = talanqueras['Edificio'].iloc[j]\n",
    "        if (hora == left or hora == right) and building == edificio:\n",
    "            hours_count['Entradas'].iloc[i] += 1"
   ]
  },
  {
   "cell_type": "code",
   "execution_count": null,
   "metadata": {},
   "outputs": [],
   "source": [
    "#Ordenar por edificio y rango de horas\n",
    "hours_count = hours_count.sort_values(by=[\"Edificio\", \"Rango de Horas\"])"
   ]
  },
  {
   "cell_type": "code",
   "execution_count": 22,
   "metadata": {},
   "outputs": [
    {
     "data": {
      "text/html": [
       "<div>\n",
       "<style scoped>\n",
       "    .dataframe tbody tr th:only-of-type {\n",
       "        vertical-align: middle;\n",
       "    }\n",
       "\n",
       "    .dataframe tbody tr th {\n",
       "        vertical-align: top;\n",
       "    }\n",
       "\n",
       "    .dataframe thead th {\n",
       "        text-align: right;\n",
       "    }\n",
       "</style>\n",
       "<table border=\"1\" class=\"dataframe\">\n",
       "  <thead>\n",
       "    <tr style=\"text-align: right;\">\n",
       "      <th></th>\n",
       "      <th>Edificio</th>\n",
       "      <th>Rango de Horas</th>\n",
       "      <th>Entradas</th>\n",
       "    </tr>\n",
       "  </thead>\n",
       "  <tbody>\n",
       "    <tr>\n",
       "      <th>86</th>\n",
       "      <td>LL</td>\n",
       "      <td>[0, 1)</td>\n",
       "      <td>56</td>\n",
       "    </tr>\n",
       "    <tr>\n",
       "      <th>84</th>\n",
       "      <td>LL</td>\n",
       "      <td>[1, 2)</td>\n",
       "      <td>61</td>\n",
       "    </tr>\n",
       "    <tr>\n",
       "      <th>85</th>\n",
       "      <td>LL</td>\n",
       "      <td>[2, 3)</td>\n",
       "      <td>53</td>\n",
       "    </tr>\n",
       "    <tr>\n",
       "      <th>64</th>\n",
       "      <td>LL</td>\n",
       "      <td>[3, 4)</td>\n",
       "      <td>51</td>\n",
       "    </tr>\n",
       "    <tr>\n",
       "      <th>78</th>\n",
       "      <td>LL</td>\n",
       "      <td>[4, 5)</td>\n",
       "      <td>697</td>\n",
       "    </tr>\n",
       "    <tr>\n",
       "      <th>...</th>\n",
       "      <td>...</td>\n",
       "      <td>...</td>\n",
       "      <td>...</td>\n",
       "    </tr>\n",
       "    <tr>\n",
       "      <th>12</th>\n",
       "      <td>SD</td>\n",
       "      <td>[17, 18)</td>\n",
       "      <td>2035</td>\n",
       "    </tr>\n",
       "    <tr>\n",
       "      <th>31</th>\n",
       "      <td>SD</td>\n",
       "      <td>[18, 19)</td>\n",
       "      <td>2130</td>\n",
       "    </tr>\n",
       "    <tr>\n",
       "      <th>45</th>\n",
       "      <td>SD</td>\n",
       "      <td>[19, 20)</td>\n",
       "      <td>2044</td>\n",
       "    </tr>\n",
       "    <tr>\n",
       "      <th>26</th>\n",
       "      <td>SD</td>\n",
       "      <td>[20, 21)</td>\n",
       "      <td>1638</td>\n",
       "    </tr>\n",
       "    <tr>\n",
       "      <th>15</th>\n",
       "      <td>SD</td>\n",
       "      <td>[21, 22)</td>\n",
       "      <td>1403</td>\n",
       "    </tr>\n",
       "  </tbody>\n",
       "</table>\n",
       "<p>87 rows × 3 columns</p>\n",
       "</div>"
      ],
      "text/plain": [
       "   Edificio Rango de Horas  Entradas\n",
       "86       LL         [0, 1)        56\n",
       "84       LL         [1, 2)        61\n",
       "85       LL         [2, 3)        53\n",
       "64       LL         [3, 4)        51\n",
       "78       LL         [4, 5)       697\n",
       "..      ...            ...       ...\n",
       "12       SD       [17, 18)      2035\n",
       "31       SD       [18, 19)      2130\n",
       "45       SD       [19, 20)      2044\n",
       "26       SD       [20, 21)      1638\n",
       "15       SD       [21, 22)      1403\n",
       "\n",
       "[87 rows x 3 columns]"
      ]
     },
     "execution_count": 22,
     "metadata": {},
     "output_type": "execute_result"
    }
   ],
   "source": [
    "hours_count"
   ]
  },
  {
   "cell_type": "code",
   "execution_count": 23,
   "metadata": {},
   "outputs": [],
   "source": [
    "# Exportamos los 2 df a csv\n",
    "edif.to_csv('../data/entradas_edificio.csv', index=False)\n",
    "hours_count.to_csv('../data/entradas_edificio_hora.csv', index=False)"
   ]
  },
  {
   "cell_type": "markdown",
   "metadata": {},
   "source": [
    "## Merge de los datos"
   ]
  },
  {
   "cell_type": "code",
   "execution_count": 25,
   "metadata": {},
   "outputs": [
    {
     "name": "stdout",
     "output_type": "stream",
     "text": [
      "630\n"
     ]
    }
   ],
   "source": [
    "print(courses['Horas'].str.split('-', expand=True)[0].astype(int).min())"
   ]
  },
  {
   "cell_type": "code",
   "execution_count": 38,
   "metadata": {},
   "outputs": [],
   "source": [
    "new = courses.copy()"
   ]
  },
  {
   "cell_type": "code",
   "execution_count": 61,
   "metadata": {},
   "outputs": [
    {
     "data": {
      "text/html": [
       "<div>\n",
       "<style scoped>\n",
       "    .dataframe tbody tr th:only-of-type {\n",
       "        vertical-align: middle;\n",
       "    }\n",
       "\n",
       "    .dataframe tbody tr th {\n",
       "        vertical-align: top;\n",
       "    }\n",
       "\n",
       "    .dataframe thead th {\n",
       "        text-align: right;\n",
       "    }\n",
       "</style>\n",
       "<table border=\"1\" class=\"dataframe\">\n",
       "  <thead>\n",
       "    <tr style=\"text-align: right;\">\n",
       "      <th></th>\n",
       "      <th>Edificio</th>\n",
       "      <th>Inscritos</th>\n",
       "    </tr>\n",
       "  </thead>\n",
       "  <tbody>\n",
       "    <tr>\n",
       "      <th>0</th>\n",
       "      <td>LL</td>\n",
       "      <td>30</td>\n",
       "    </tr>\n",
       "    <tr>\n",
       "      <th>1</th>\n",
       "      <td>LL</td>\n",
       "      <td>33</td>\n",
       "    </tr>\n",
       "    <tr>\n",
       "      <th>2</th>\n",
       "      <td>LL</td>\n",
       "      <td>28</td>\n",
       "    </tr>\n",
       "    <tr>\n",
       "      <th>3</th>\n",
       "      <td>LL</td>\n",
       "      <td>31</td>\n",
       "    </tr>\n",
       "    <tr>\n",
       "      <th>4</th>\n",
       "      <td>LL</td>\n",
       "      <td>15</td>\n",
       "    </tr>\n",
       "    <tr>\n",
       "      <th>...</th>\n",
       "      <td>...</td>\n",
       "      <td>...</td>\n",
       "    </tr>\n",
       "    <tr>\n",
       "      <th>209</th>\n",
       "      <td>SD</td>\n",
       "      <td>37</td>\n",
       "    </tr>\n",
       "    <tr>\n",
       "      <th>210</th>\n",
       "      <td>SD</td>\n",
       "      <td>20</td>\n",
       "    </tr>\n",
       "    <tr>\n",
       "      <th>211</th>\n",
       "      <td>SD</td>\n",
       "      <td>43</td>\n",
       "    </tr>\n",
       "    <tr>\n",
       "      <th>212</th>\n",
       "      <td>SD</td>\n",
       "      <td>17</td>\n",
       "    </tr>\n",
       "    <tr>\n",
       "      <th>213</th>\n",
       "      <td>SD</td>\n",
       "      <td>41</td>\n",
       "    </tr>\n",
       "  </tbody>\n",
       "</table>\n",
       "<p>214 rows × 2 columns</p>\n",
       "</div>"
      ],
      "text/plain": [
       "    Edificio  Inscritos\n",
       "0         LL         30\n",
       "1         LL         33\n",
       "2         LL         28\n",
       "3         LL         31\n",
       "4         LL         15\n",
       "..       ...        ...\n",
       "209       SD         37\n",
       "210       SD         20\n",
       "211       SD         43\n",
       "212       SD         17\n",
       "213       SD         41\n",
       "\n",
       "[214 rows x 2 columns]"
      ]
     },
     "execution_count": 61,
     "metadata": {},
     "output_type": "execute_result"
    }
   ],
   "source": [
    "new"
   ]
  },
  {
   "cell_type": "code",
   "execution_count": 40,
   "metadata": {},
   "outputs": [],
   "source": [
    "new.drop(columns=['Curso','NRC','Periodo','Salón', 'Días'], inplace=True)"
   ]
  },
  {
   "cell_type": "code",
   "execution_count": 45,
   "metadata": {},
   "outputs": [],
   "source": [
    "new.sort_values(by=['Edificio','Horas'], inplace=True)\n",
    "new.drop_duplicates(subset=['Edificio','Horas'], keep='first', inplace=True)\n",
    "new.reset_index(drop=True, inplace=True)"
   ]
  },
  {
   "cell_type": "code",
   "execution_count": null,
   "metadata": {},
   "outputs": [],
   "source": [
    "def convert_to_range(horas):\n",
    "    # Split the start and end times\n",
    "    start, end = horas.split(\"-\")\n",
    "\n",
    "    start_hour = int(start[:2])  # First two digits (hours)\n",
    "    end_hour = int(end[:2])      # First two digits (hours)\n",
    "    if end[2:] != '00':\n",
    "        end_hour += 1\n",
    "\n",
    "    return[start_hour, end_hour]\n",
    "\n",
    "# Apply the conversion function\n",
    "new[\"Rango de Horas\"] = new[\"Horas\"].apply(convert_to_range)"
   ]
  },
  {
   "cell_type": "code",
   "execution_count": 62,
   "metadata": {},
   "outputs": [
    {
     "data": {
      "text/html": [
       "<div>\n",
       "<style scoped>\n",
       "    .dataframe tbody tr th:only-of-type {\n",
       "        vertical-align: middle;\n",
       "    }\n",
       "\n",
       "    .dataframe tbody tr th {\n",
       "        vertical-align: top;\n",
       "    }\n",
       "\n",
       "    .dataframe thead th {\n",
       "        text-align: right;\n",
       "    }\n",
       "</style>\n",
       "<table border=\"1\" class=\"dataframe\">\n",
       "  <thead>\n",
       "    <tr style=\"text-align: right;\">\n",
       "      <th></th>\n",
       "      <th>Inscritos</th>\n",
       "    </tr>\n",
       "    <tr>\n",
       "      <th>Edificio</th>\n",
       "      <th></th>\n",
       "    </tr>\n",
       "  </thead>\n",
       "  <tbody>\n",
       "    <tr>\n",
       "      <th>LL</th>\n",
       "      <td>256168</td>\n",
       "    </tr>\n",
       "    <tr>\n",
       "      <th>ML</th>\n",
       "      <td>374880</td>\n",
       "    </tr>\n",
       "    <tr>\n",
       "      <th>RGD</th>\n",
       "      <td>331144</td>\n",
       "    </tr>\n",
       "    <tr>\n",
       "      <th>SD</th>\n",
       "      <td>374880</td>\n",
       "    </tr>\n",
       "  </tbody>\n",
       "</table>\n",
       "</div>"
      ],
      "text/plain": [
       "          Inscritos\n",
       "Edificio           \n",
       "LL           256168\n",
       "ML           374880\n",
       "RGD          331144\n",
       "SD           374880"
      ]
     },
     "execution_count": 62,
     "metadata": {},
     "output_type": "execute_result"
    }
   ],
   "source": [
    "new.groupby('Edificio').count()*new['Inscritos'].sum()"
   ]
  },
  {
   "cell_type": "code",
   "execution_count": 60,
   "metadata": {},
   "outputs": [],
   "source": [
    "new.drop(columns=['Horas','Rango de Horas'], inplace=True)"
   ]
  }
 ],
 "metadata": {
  "kernelspec": {
   "display_name": "smartCampus",
   "language": "python",
   "name": "python3"
  },
  "language_info": {
   "codemirror_mode": {
    "name": "ipython",
    "version": 3
   },
   "file_extension": ".py",
   "mimetype": "text/x-python",
   "name": "python",
   "nbconvert_exporter": "python",
   "pygments_lexer": "ipython3",
   "version": "3.12.7"
  }
 },
 "nbformat": 4,
 "nbformat_minor": 2
}
