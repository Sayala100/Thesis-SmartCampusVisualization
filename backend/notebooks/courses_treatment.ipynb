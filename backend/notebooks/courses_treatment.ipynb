{
 "cells": [
  {
   "cell_type": "code",
   "execution_count": 1,
   "metadata": {},
   "outputs": [],
   "source": [
    "%load_ext autoreload\n",
    "%autoreload 2\n",
    "\n",
    "import os\n",
    "import sys\n",
    "from joblib import dump, load\n",
    "\n",
    "module_path = os.path.abspath(os.path.join('..', 'code'))\n",
    "if module_path not in sys.path:\n",
    "    sys.path.append(module_path)"
   ]
  },
  {
   "cell_type": "code",
   "execution_count": 2,
   "metadata": {},
   "outputs": [],
   "source": [
    "import utils"
   ]
  },
  {
   "cell_type": "markdown",
   "metadata": {},
   "source": [
    "## Procesado de datos Oferta de cursos"
   ]
  },
  {
   "cell_type": "code",
   "execution_count": 6,
   "metadata": {},
   "outputs": [],
   "source": [
    "df = utils.load_data('../data/courses.csv')"
   ]
  },
  {
   "cell_type": "code",
   "execution_count": 7,
   "metadata": {},
   "outputs": [],
   "source": [
    "def initial_filter(df):\n",
    "    df = df[df['Lugar']=='CAMPUS PRINCIPAL']\n",
    "    # Mantener solo los edificos usados para la investigación\n",
    "    df = df[df['Edificio'].str.contains(r'.*SD.*|.*\\.centro.*|.*ML.*|.*LL.*', na=False)]\n",
    "    # Eliminar filas duplicadas\n",
    "    df.drop_duplicates(inplace=True)\n",
    "    \n",
    "    return df"
   ]
  },
  {
   "cell_type": "code",
   "execution_count": 8,
   "metadata": {},
   "outputs": [],
   "source": [
    "def further_processing(df):\n",
    "    # Mantener solo las columnas necesarias\n",
    "    df = df[['Curso','NRC','Periodo','Edificio','Salón','Días','Horas', 'Inscritos']]\n",
    "    # Eliminar cursos sin inscritos\n",
    "    df = df[df['Inscritos']>0]\n",
    "    return df"
   ]
  },
  {
   "cell_type": "code",
   "execution_count": 9,
   "metadata": {},
   "outputs": [],
   "source": [
    "def save_file(processed_df, path):\n",
    "    processed_df.to_csv(path, index=False)"
   ]
  },
  {
   "cell_type": "code",
   "execution_count": 10,
   "metadata": {},
   "outputs": [],
   "source": [
    "def process_file(input_path, output_path):\n",
    "    df = utils.load_data(input_path)\n",
    "    df = initial_filter(df)\n",
    "    df = further_processing(df)\n",
    "    save_file(df, output_path)"
   ]
  },
  {
   "cell_type": "code",
   "execution_count": null,
   "metadata": {},
   "outputs": [],
   "source": [
    "dump(process_file, '../models/process_file.joblib')"
   ]
  },
  {
   "cell_type": "code",
   "execution_count": null,
   "metadata": {},
   "outputs": [],
   "source": [
    "process_file_loaded = load('../models/process_file.joblib')\n",
    "\n",
    "process_file_loaded('../data/courses.csv', '../data/processed_courses.csv')"
   ]
  }
 ],
 "metadata": {
  "kernelspec": {
   "display_name": "smartCampus",
   "language": "python",
   "name": "python3"
  },
  "language_info": {
   "codemirror_mode": {
    "name": "ipython",
    "version": 3
   },
   "file_extension": ".py",
   "mimetype": "text/x-python",
   "name": "python",
   "nbconvert_exporter": "python",
   "pygments_lexer": "ipython3",
   "version": "undefined.undefined.undefined"
  }
 },
 "nbformat": 4,
 "nbformat_minor": 2
}
